{
  "nbformat": 4,
  "nbformat_minor": 0,
  "metadata": {
    "colab": {
      "provenance": []
    },
    "kernelspec": {
      "name": "python3",
      "display_name": "Python 3"
    },
    "language_info": {
      "name": "python"
    }
  },
  "cells": [
    {
      "cell_type": "markdown",
      "source": [
        "<img src='https://i.imgur.com/RDAD11M.png' width = '200' align = 'right'>\n",
        "\n",
        "# **SC12x**\n",
        "\n",
        "# **Statistics**"
      ],
      "metadata": {
        "id": "Lh5QGrdw-mKP"
      }
    },
    {
      "cell_type": "markdown",
      "source": [
        "## **Part 1. Bayes Theorem**\n",
        "\n",
        "Bayes Thoerem은 사전확률에서 정보가 업데이트됨에 따라 사후확률이 어떻게 변화하는지를 나타냅니다. \n",
        "\n",
        "다음의 문제에 대해 Bayes Thoerem을 활용하여 사후확률을 구해보세요.\n",
        "\n",
        "> 여러분은 가게에서 2개의 사탕팩(A, B)을 구매하였습니다. A팩에는 7개의 딸기맛, 3개의 사과맛 사탕이 들어있고, B팩에는 5개의 딸기맛, 5개의 사과맛 사탕이 들어있었습니다. 해당 사탕들을 모두 섞은 후 1개를 뽑았더니 딸기맛이었을 때, 해당 사탕이 A팩에 있었던 사탕이었을 확률은 얼마일까요?\n",
        "\n",
        "\n",
        "\n"
      ],
      "metadata": {
        "id": "r7D6lw5IUwc2"
      }
    },
    {
      "cell_type": "markdown",
      "source": [
        "##### **Q1. 사후확률을 반올림하여 소수점 둘째 자리까지 구한 후, 사전확률과 사후확률 결과를 (사전확률, 사후확률)의 형태로 쓰세요.**"
      ],
      "metadata": {
        "id": "r0MUSUO6A2kj"
      }
    },
    {
      "cell_type": "code",
      "source": [
        "# 이곳에 코드를 작성하세요.\n",
        "\n",
        "import pandas as pd\n",
        "import scipy.stats as st\n",
        "from scipy.stats import t\n",
        "import pandas as pd\n",
        "import numpy as np\n",
        "import random\n",
        "import matplotlib.pyplot as plt\n",
        "import seaborn as sns\n",
        "\n",
        "\n",
        "As = 0.7  # A에서 딸기맛 확률\n",
        "Bs = 0.5  # B에서 딸기맛 확률\n",
        "Straw = 12/20 # 딸기 확률\n",
        "A = 0.5 # A를 뽑을 확률\n",
        "B = 1 - A # B를 뽑을 확률\n",
        "\n",
        "print(A)\n",
        "\n",
        "# 꺼낸게 딸기었을 때 A일 확률\n",
        "PA = As*A / Straw\n",
        "print(PA)\n",
        "\n"
      ],
      "metadata": {
        "id": "Em6ZBk6Nl10u",
        "colab": {
          "base_uri": "https://localhost:8080/"
        },
        "outputId": "7255ede3-ff5f-4ed5-bf29-11875c1166c1"
      },
      "execution_count": 31,
      "outputs": [
        {
          "output_type": "stream",
          "name": "stdout",
          "text": [
            "0.5\n",
            "0.5833333333333334\n"
          ]
        }
      ]
    },
    {
      "cell_type": "code",
      "source": [
        "# (0.5,0.58)"
      ],
      "metadata": {
        "id": "6CgJ-w7iQk4m"
      },
      "execution_count": 32,
      "outputs": []
    },
    {
      "cell_type": "markdown",
      "source": [
        "---"
      ],
      "metadata": {
        "id": "uxyyD7S2BG3S"
      }
    },
    {
      "cell_type": "markdown",
      "source": [
        "## **Part 2. 큰 수의 법칙 & 신뢰 구간**\n",
        "\n",
        "> **Part 2, Part 3에서 여러분은 가상의 마케팅 데이터를 활용할 것입니다.**"
      ],
      "metadata": {
        "id": "RD-eh22GVjx7"
      }
    },
    {
      "cell_type": "markdown",
      "source": [
        "#### 데이터셋 정보 :   \n",
        "이 데이터셋은 알뜰 구매를 도와주는 XYZ사의 마케팅 정보를 다루고 있으며, 개인 정보는 보호를 위해 제거 되어 있습니다.\n",
        "\n",
        "**Attribute Information:**\n",
        "\n",
        "- ID - 고객의 고유값\n",
        "- Year_Birth - 고객의 출생연도\n",
        "- Education - 고객의 최종학력\n",
        "- Marital_Status - 고객의 혼인여부\n",
        "- Country - 고객의 국적\n",
        "- Income - 고객의 연간 수입\n",
        "- Kidhome - 자녀가 미취학아동인지 여부 (1 - yes, 0 - no)\n",
        "- Teenhome - 자녀가 10대 청소년인지 여부 (1 - yes, 0 - no)\n",
        "- Dt_Customer - 서비스 가입 시기\n",
        "- Recency - 마지막 구매 시기 (일)\n",
        "- MntWines - 최근 2년간 구매한 와인 구매 총액\n",
        "- MntFruits- 최근 2년간 구매한 과일 구매 총액\n",
        "- MntMeatProducts - 최근 2년간 구매한 정육 구매 총액\n",
        "- MntFishProducts - 최근 2년간 구매한 어류 구매 총액\n",
        "- MntSweetProducts - 최근 2년간 구매한 과자 구매 총액\n",
        "- MntGoldProds - 최근 2년간 구매한 황금 구매 총액\n",
        "- NumDealsPurchases - 할인을 통해 제품을 구매한 횟수\n",
        "- NumWebPurchases - 회사의 웹사이트를 통해 구매한 횟수\n",
        "- NumStorePurchases - 가게에서 직접 구매한 횟수\n",
        "- NumWebVisitsMonth - 회사의 웹사이트를 방문한 횟수\n",
        "- Complain - 고객의 최근 2년간 회사에 대한 클레임 여부 (1 - yes, 0 - no)"
      ],
      "metadata": {
        "id": "64C3XkoL-lZB"
      }
    },
    {
      "cell_type": "code",
      "source": [
        "df = pd.read_csv('sc_12_data.csv')\n",
        "df"
      ],
      "metadata": {
        "colab": {
          "base_uri": "https://localhost:8080/",
          "height": 505
        },
        "id": "7EAM_Xg4NC1o",
        "outputId": "8d478fd0-1f89-469a-9060-3c685dcea92c"
      },
      "execution_count": 5,
      "outputs": [
        {
          "output_type": "execute_result",
          "data": {
            "text/plain": [
              "      Unnamed: 0     ID  Year_Birth Country   Education Marital_Status  \\\n",
              "0              0   1826        1970      SP  Graduation       Divorced   \n",
              "1              1      1        1961      CA  Graduation         Single   \n",
              "2              2  10476        1958      US  Graduation        Married   \n",
              "3              3   1386        1967     AUS  Graduation       Together   \n",
              "4              4   5371        1989      SP  Graduation         Single   \n",
              "...          ...    ...         ...     ...         ...            ...   \n",
              "2135        2183   9977        1973      US  Graduation       Divorced   \n",
              "2136        2184  10142        1976      US         PhD       Divorced   \n",
              "2137        2185   5263        1977      SP    2n Cycle        Married   \n",
              "2138        2186     22        1976      SP  Graduation       Divorced   \n",
              "2139        2187    528        1978     IND  Graduation        Married   \n",
              "\n",
              "          Income   Kidhome  Teenhome Dt_Customer  ...  MntFruits  \\\n",
              "0     $84,835.00         0         0     6/16/14  ...        104   \n",
              "1     $57,091.00         0         0     6/15/14  ...          5   \n",
              "2     $67,267.00         0         1     5/13/14  ...         11   \n",
              "3     $32,474.00         1         1     5/11/14  ...          0   \n",
              "4     $21,474.00         1         0      4/8/14  ...         16   \n",
              "...           ...      ...       ...         ...  ...        ...   \n",
              "2135  $78,901.00         0         1     9/17/13  ...         11   \n",
              "2136  $66,476.00         0         1      3/7/13  ...         18   \n",
              "2137  $31,056.00         1         0     1/22/13  ...         10   \n",
              "2138  $46,310.00         1         0     12/3/12  ...          2   \n",
              "2139  $65,819.00         0         0    11/29/12  ...         38   \n",
              "\n",
              "      MntMeatProducts  MntFishProducts  MntSweetProducts  MntGoldProds  \\\n",
              "0                 379              111               189           218   \n",
              "1                  64                7                 0            37   \n",
              "2                  59               15                 2            30   \n",
              "3                   1                0                 0             0   \n",
              "4                  24               11                 0            34   \n",
              "...               ...              ...               ...           ...   \n",
              "2135              309               33                26            34   \n",
              "2136              126               47                48            78   \n",
              "2137               13                3                 8            16   \n",
              "2138               88               15                 5            14   \n",
              "2139              701              149               165            63   \n",
              "\n",
              "      NumDealsPurchases  NumWebPurchases  NumStorePurchases  \\\n",
              "0                     1                4                  6   \n",
              "1                     1                7                  7   \n",
              "2                     1                3                  5   \n",
              "3                     1                1                  2   \n",
              "4                     2                3                  2   \n",
              "...                 ...              ...                ...   \n",
              "2135                  3                9                  5   \n",
              "2136                  2                5                 11   \n",
              "2137                  1                1                  3   \n",
              "2138                  2                6                  5   \n",
              "2139                  1                5                 10   \n",
              "\n",
              "      NumWebVisitsMonth  Complain  \n",
              "0                     1         0  \n",
              "1                     5         0  \n",
              "2                     2         0  \n",
              "3                     7         0  \n",
              "4                     7         0  \n",
              "...                 ...       ...  \n",
              "2135                  4         0  \n",
              "2136                  4         0  \n",
              "2137                  8         0  \n",
              "2138                  8         0  \n",
              "2139                  3         0  \n",
              "\n",
              "[2140 rows x 22 columns]"
            ],
            "text/html": [
              "\n",
              "  <div id=\"df-726a27ca-b39b-41e3-a55c-40480baf5488\">\n",
              "    <div class=\"colab-df-container\">\n",
              "      <div>\n",
              "<style scoped>\n",
              "    .dataframe tbody tr th:only-of-type {\n",
              "        vertical-align: middle;\n",
              "    }\n",
              "\n",
              "    .dataframe tbody tr th {\n",
              "        vertical-align: top;\n",
              "    }\n",
              "\n",
              "    .dataframe thead th {\n",
              "        text-align: right;\n",
              "    }\n",
              "</style>\n",
              "<table border=\"1\" class=\"dataframe\">\n",
              "  <thead>\n",
              "    <tr style=\"text-align: right;\">\n",
              "      <th></th>\n",
              "      <th>Unnamed: 0</th>\n",
              "      <th>ID</th>\n",
              "      <th>Year_Birth</th>\n",
              "      <th>Country</th>\n",
              "      <th>Education</th>\n",
              "      <th>Marital_Status</th>\n",
              "      <th>Income</th>\n",
              "      <th>Kidhome</th>\n",
              "      <th>Teenhome</th>\n",
              "      <th>Dt_Customer</th>\n",
              "      <th>...</th>\n",
              "      <th>MntFruits</th>\n",
              "      <th>MntMeatProducts</th>\n",
              "      <th>MntFishProducts</th>\n",
              "      <th>MntSweetProducts</th>\n",
              "      <th>MntGoldProds</th>\n",
              "      <th>NumDealsPurchases</th>\n",
              "      <th>NumWebPurchases</th>\n",
              "      <th>NumStorePurchases</th>\n",
              "      <th>NumWebVisitsMonth</th>\n",
              "      <th>Complain</th>\n",
              "    </tr>\n",
              "  </thead>\n",
              "  <tbody>\n",
              "    <tr>\n",
              "      <th>0</th>\n",
              "      <td>0</td>\n",
              "      <td>1826</td>\n",
              "      <td>1970</td>\n",
              "      <td>SP</td>\n",
              "      <td>Graduation</td>\n",
              "      <td>Divorced</td>\n",
              "      <td>$84,835.00</td>\n",
              "      <td>0</td>\n",
              "      <td>0</td>\n",
              "      <td>6/16/14</td>\n",
              "      <td>...</td>\n",
              "      <td>104</td>\n",
              "      <td>379</td>\n",
              "      <td>111</td>\n",
              "      <td>189</td>\n",
              "      <td>218</td>\n",
              "      <td>1</td>\n",
              "      <td>4</td>\n",
              "      <td>6</td>\n",
              "      <td>1</td>\n",
              "      <td>0</td>\n",
              "    </tr>\n",
              "    <tr>\n",
              "      <th>1</th>\n",
              "      <td>1</td>\n",
              "      <td>1</td>\n",
              "      <td>1961</td>\n",
              "      <td>CA</td>\n",
              "      <td>Graduation</td>\n",
              "      <td>Single</td>\n",
              "      <td>$57,091.00</td>\n",
              "      <td>0</td>\n",
              "      <td>0</td>\n",
              "      <td>6/15/14</td>\n",
              "      <td>...</td>\n",
              "      <td>5</td>\n",
              "      <td>64</td>\n",
              "      <td>7</td>\n",
              "      <td>0</td>\n",
              "      <td>37</td>\n",
              "      <td>1</td>\n",
              "      <td>7</td>\n",
              "      <td>7</td>\n",
              "      <td>5</td>\n",
              "      <td>0</td>\n",
              "    </tr>\n",
              "    <tr>\n",
              "      <th>2</th>\n",
              "      <td>2</td>\n",
              "      <td>10476</td>\n",
              "      <td>1958</td>\n",
              "      <td>US</td>\n",
              "      <td>Graduation</td>\n",
              "      <td>Married</td>\n",
              "      <td>$67,267.00</td>\n",
              "      <td>0</td>\n",
              "      <td>1</td>\n",
              "      <td>5/13/14</td>\n",
              "      <td>...</td>\n",
              "      <td>11</td>\n",
              "      <td>59</td>\n",
              "      <td>15</td>\n",
              "      <td>2</td>\n",
              "      <td>30</td>\n",
              "      <td>1</td>\n",
              "      <td>3</td>\n",
              "      <td>5</td>\n",
              "      <td>2</td>\n",
              "      <td>0</td>\n",
              "    </tr>\n",
              "    <tr>\n",
              "      <th>3</th>\n",
              "      <td>3</td>\n",
              "      <td>1386</td>\n",
              "      <td>1967</td>\n",
              "      <td>AUS</td>\n",
              "      <td>Graduation</td>\n",
              "      <td>Together</td>\n",
              "      <td>$32,474.00</td>\n",
              "      <td>1</td>\n",
              "      <td>1</td>\n",
              "      <td>5/11/14</td>\n",
              "      <td>...</td>\n",
              "      <td>0</td>\n",
              "      <td>1</td>\n",
              "      <td>0</td>\n",
              "      <td>0</td>\n",
              "      <td>0</td>\n",
              "      <td>1</td>\n",
              "      <td>1</td>\n",
              "      <td>2</td>\n",
              "      <td>7</td>\n",
              "      <td>0</td>\n",
              "    </tr>\n",
              "    <tr>\n",
              "      <th>4</th>\n",
              "      <td>4</td>\n",
              "      <td>5371</td>\n",
              "      <td>1989</td>\n",
              "      <td>SP</td>\n",
              "      <td>Graduation</td>\n",
              "      <td>Single</td>\n",
              "      <td>$21,474.00</td>\n",
              "      <td>1</td>\n",
              "      <td>0</td>\n",
              "      <td>4/8/14</td>\n",
              "      <td>...</td>\n",
              "      <td>16</td>\n",
              "      <td>24</td>\n",
              "      <td>11</td>\n",
              "      <td>0</td>\n",
              "      <td>34</td>\n",
              "      <td>2</td>\n",
              "      <td>3</td>\n",
              "      <td>2</td>\n",
              "      <td>7</td>\n",
              "      <td>0</td>\n",
              "    </tr>\n",
              "    <tr>\n",
              "      <th>...</th>\n",
              "      <td>...</td>\n",
              "      <td>...</td>\n",
              "      <td>...</td>\n",
              "      <td>...</td>\n",
              "      <td>...</td>\n",
              "      <td>...</td>\n",
              "      <td>...</td>\n",
              "      <td>...</td>\n",
              "      <td>...</td>\n",
              "      <td>...</td>\n",
              "      <td>...</td>\n",
              "      <td>...</td>\n",
              "      <td>...</td>\n",
              "      <td>...</td>\n",
              "      <td>...</td>\n",
              "      <td>...</td>\n",
              "      <td>...</td>\n",
              "      <td>...</td>\n",
              "      <td>...</td>\n",
              "      <td>...</td>\n",
              "      <td>...</td>\n",
              "    </tr>\n",
              "    <tr>\n",
              "      <th>2135</th>\n",
              "      <td>2183</td>\n",
              "      <td>9977</td>\n",
              "      <td>1973</td>\n",
              "      <td>US</td>\n",
              "      <td>Graduation</td>\n",
              "      <td>Divorced</td>\n",
              "      <td>$78,901.00</td>\n",
              "      <td>0</td>\n",
              "      <td>1</td>\n",
              "      <td>9/17/13</td>\n",
              "      <td>...</td>\n",
              "      <td>11</td>\n",
              "      <td>309</td>\n",
              "      <td>33</td>\n",
              "      <td>26</td>\n",
              "      <td>34</td>\n",
              "      <td>3</td>\n",
              "      <td>9</td>\n",
              "      <td>5</td>\n",
              "      <td>4</td>\n",
              "      <td>0</td>\n",
              "    </tr>\n",
              "    <tr>\n",
              "      <th>2136</th>\n",
              "      <td>2184</td>\n",
              "      <td>10142</td>\n",
              "      <td>1976</td>\n",
              "      <td>US</td>\n",
              "      <td>PhD</td>\n",
              "      <td>Divorced</td>\n",
              "      <td>$66,476.00</td>\n",
              "      <td>0</td>\n",
              "      <td>1</td>\n",
              "      <td>3/7/13</td>\n",
              "      <td>...</td>\n",
              "      <td>18</td>\n",
              "      <td>126</td>\n",
              "      <td>47</td>\n",
              "      <td>48</td>\n",
              "      <td>78</td>\n",
              "      <td>2</td>\n",
              "      <td>5</td>\n",
              "      <td>11</td>\n",
              "      <td>4</td>\n",
              "      <td>0</td>\n",
              "    </tr>\n",
              "    <tr>\n",
              "      <th>2137</th>\n",
              "      <td>2185</td>\n",
              "      <td>5263</td>\n",
              "      <td>1977</td>\n",
              "      <td>SP</td>\n",
              "      <td>2n Cycle</td>\n",
              "      <td>Married</td>\n",
              "      <td>$31,056.00</td>\n",
              "      <td>1</td>\n",
              "      <td>0</td>\n",
              "      <td>1/22/13</td>\n",
              "      <td>...</td>\n",
              "      <td>10</td>\n",
              "      <td>13</td>\n",
              "      <td>3</td>\n",
              "      <td>8</td>\n",
              "      <td>16</td>\n",
              "      <td>1</td>\n",
              "      <td>1</td>\n",
              "      <td>3</td>\n",
              "      <td>8</td>\n",
              "      <td>0</td>\n",
              "    </tr>\n",
              "    <tr>\n",
              "      <th>2138</th>\n",
              "      <td>2186</td>\n",
              "      <td>22</td>\n",
              "      <td>1976</td>\n",
              "      <td>SP</td>\n",
              "      <td>Graduation</td>\n",
              "      <td>Divorced</td>\n",
              "      <td>$46,310.00</td>\n",
              "      <td>1</td>\n",
              "      <td>0</td>\n",
              "      <td>12/3/12</td>\n",
              "      <td>...</td>\n",
              "      <td>2</td>\n",
              "      <td>88</td>\n",
              "      <td>15</td>\n",
              "      <td>5</td>\n",
              "      <td>14</td>\n",
              "      <td>2</td>\n",
              "      <td>6</td>\n",
              "      <td>5</td>\n",
              "      <td>8</td>\n",
              "      <td>0</td>\n",
              "    </tr>\n",
              "    <tr>\n",
              "      <th>2139</th>\n",
              "      <td>2187</td>\n",
              "      <td>528</td>\n",
              "      <td>1978</td>\n",
              "      <td>IND</td>\n",
              "      <td>Graduation</td>\n",
              "      <td>Married</td>\n",
              "      <td>$65,819.00</td>\n",
              "      <td>0</td>\n",
              "      <td>0</td>\n",
              "      <td>11/29/12</td>\n",
              "      <td>...</td>\n",
              "      <td>38</td>\n",
              "      <td>701</td>\n",
              "      <td>149</td>\n",
              "      <td>165</td>\n",
              "      <td>63</td>\n",
              "      <td>1</td>\n",
              "      <td>5</td>\n",
              "      <td>10</td>\n",
              "      <td>3</td>\n",
              "      <td>0</td>\n",
              "    </tr>\n",
              "  </tbody>\n",
              "</table>\n",
              "<p>2140 rows × 22 columns</p>\n",
              "</div>\n",
              "      <button class=\"colab-df-convert\" onclick=\"convertToInteractive('df-726a27ca-b39b-41e3-a55c-40480baf5488')\"\n",
              "              title=\"Convert this dataframe to an interactive table.\"\n",
              "              style=\"display:none;\">\n",
              "        \n",
              "  <svg xmlns=\"http://www.w3.org/2000/svg\" height=\"24px\"viewBox=\"0 0 24 24\"\n",
              "       width=\"24px\">\n",
              "    <path d=\"M0 0h24v24H0V0z\" fill=\"none\"/>\n",
              "    <path d=\"M18.56 5.44l.94 2.06.94-2.06 2.06-.94-2.06-.94-.94-2.06-.94 2.06-2.06.94zm-11 1L8.5 8.5l.94-2.06 2.06-.94-2.06-.94L8.5 2.5l-.94 2.06-2.06.94zm10 10l.94 2.06.94-2.06 2.06-.94-2.06-.94-.94-2.06-.94 2.06-2.06.94z\"/><path d=\"M17.41 7.96l-1.37-1.37c-.4-.4-.92-.59-1.43-.59-.52 0-1.04.2-1.43.59L10.3 9.45l-7.72 7.72c-.78.78-.78 2.05 0 2.83L4 21.41c.39.39.9.59 1.41.59.51 0 1.02-.2 1.41-.59l7.78-7.78 2.81-2.81c.8-.78.8-2.07 0-2.86zM5.41 20L4 18.59l7.72-7.72 1.47 1.35L5.41 20z\"/>\n",
              "  </svg>\n",
              "      </button>\n",
              "      \n",
              "  <style>\n",
              "    .colab-df-container {\n",
              "      display:flex;\n",
              "      flex-wrap:wrap;\n",
              "      gap: 12px;\n",
              "    }\n",
              "\n",
              "    .colab-df-convert {\n",
              "      background-color: #E8F0FE;\n",
              "      border: none;\n",
              "      border-radius: 50%;\n",
              "      cursor: pointer;\n",
              "      display: none;\n",
              "      fill: #1967D2;\n",
              "      height: 32px;\n",
              "      padding: 0 0 0 0;\n",
              "      width: 32px;\n",
              "    }\n",
              "\n",
              "    .colab-df-convert:hover {\n",
              "      background-color: #E2EBFA;\n",
              "      box-shadow: 0px 1px 2px rgba(60, 64, 67, 0.3), 0px 1px 3px 1px rgba(60, 64, 67, 0.15);\n",
              "      fill: #174EA6;\n",
              "    }\n",
              "\n",
              "    [theme=dark] .colab-df-convert {\n",
              "      background-color: #3B4455;\n",
              "      fill: #D2E3FC;\n",
              "    }\n",
              "\n",
              "    [theme=dark] .colab-df-convert:hover {\n",
              "      background-color: #434B5C;\n",
              "      box-shadow: 0px 1px 3px 1px rgba(0, 0, 0, 0.15);\n",
              "      filter: drop-shadow(0px 1px 2px rgba(0, 0, 0, 0.3));\n",
              "      fill: #FFFFFF;\n",
              "    }\n",
              "  </style>\n",
              "\n",
              "      <script>\n",
              "        const buttonEl =\n",
              "          document.querySelector('#df-726a27ca-b39b-41e3-a55c-40480baf5488 button.colab-df-convert');\n",
              "        buttonEl.style.display =\n",
              "          google.colab.kernel.accessAllowed ? 'block' : 'none';\n",
              "\n",
              "        async function convertToInteractive(key) {\n",
              "          const element = document.querySelector('#df-726a27ca-b39b-41e3-a55c-40480baf5488');\n",
              "          const dataTable =\n",
              "            await google.colab.kernel.invokeFunction('convertToInteractive',\n",
              "                                                     [key], {});\n",
              "          if (!dataTable) return;\n",
              "\n",
              "          const docLinkHtml = 'Like what you see? Visit the ' +\n",
              "            '<a target=\"_blank\" href=https://colab.research.google.com/notebooks/data_table.ipynb>data table notebook</a>'\n",
              "            + ' to learn more about interactive tables.';\n",
              "          element.innerHTML = '';\n",
              "          dataTable['output_type'] = 'display_data';\n",
              "          await google.colab.output.renderOutput(dataTable, element);\n",
              "          const docLink = document.createElement('div');\n",
              "          docLink.innerHTML = docLinkHtml;\n",
              "          element.appendChild(docLink);\n",
              "        }\n",
              "      </script>\n",
              "    </div>\n",
              "  </div>\n",
              "  "
            ]
          },
          "metadata": {},
          "execution_count": 5
        }
      ]
    },
    {
      "cell_type": "code",
      "source": [
        "df_clean = df.drop(df.columns[0], axis=1)\n",
        "df_clean"
      ],
      "metadata": {
        "colab": {
          "base_uri": "https://localhost:8080/",
          "height": 487
        },
        "id": "5dykzUNhNt53",
        "outputId": "54bb6c04-db99-481a-8a25-49dc7595a28b"
      },
      "execution_count": 6,
      "outputs": [
        {
          "output_type": "execute_result",
          "data": {
            "text/plain": [
              "         ID  Year_Birth Country   Education Marital_Status      Income   \\\n",
              "0      1826        1970      SP  Graduation       Divorced  $84,835.00    \n",
              "1         1        1961      CA  Graduation         Single  $57,091.00    \n",
              "2     10476        1958      US  Graduation        Married  $67,267.00    \n",
              "3      1386        1967     AUS  Graduation       Together  $32,474.00    \n",
              "4      5371        1989      SP  Graduation         Single  $21,474.00    \n",
              "...     ...         ...     ...         ...            ...          ...   \n",
              "2135   9977        1973      US  Graduation       Divorced  $78,901.00    \n",
              "2136  10142        1976      US         PhD       Divorced  $66,476.00    \n",
              "2137   5263        1977      SP    2n Cycle        Married  $31,056.00    \n",
              "2138     22        1976      SP  Graduation       Divorced  $46,310.00    \n",
              "2139    528        1978     IND  Graduation        Married  $65,819.00    \n",
              "\n",
              "      Kidhome  Teenhome Dt_Customer  Recency  ...  MntFruits  MntMeatProducts  \\\n",
              "0           0         0     6/16/14        0  ...        104              379   \n",
              "1           0         0     6/15/14        0  ...          5               64   \n",
              "2           0         1     5/13/14        0  ...         11               59   \n",
              "3           1         1     5/11/14        0  ...          0                1   \n",
              "4           1         0      4/8/14        0  ...         16               24   \n",
              "...       ...       ...         ...      ...  ...        ...              ...   \n",
              "2135        0         1     9/17/13       99  ...         11              309   \n",
              "2136        0         1      3/7/13       99  ...         18              126   \n",
              "2137        1         0     1/22/13       99  ...         10               13   \n",
              "2138        1         0     12/3/12       99  ...          2               88   \n",
              "2139        0         0    11/29/12       99  ...         38              701   \n",
              "\n",
              "      MntFishProducts  MntSweetProducts  MntGoldProds  NumDealsPurchases  \\\n",
              "0                 111               189           218                  1   \n",
              "1                   7                 0            37                  1   \n",
              "2                  15                 2            30                  1   \n",
              "3                   0                 0             0                  1   \n",
              "4                  11                 0            34                  2   \n",
              "...               ...               ...           ...                ...   \n",
              "2135               33                26            34                  3   \n",
              "2136               47                48            78                  2   \n",
              "2137                3                 8            16                  1   \n",
              "2138               15                 5            14                  2   \n",
              "2139              149               165            63                  1   \n",
              "\n",
              "      NumWebPurchases  NumStorePurchases  NumWebVisitsMonth  Complain  \n",
              "0                   4                  6                  1         0  \n",
              "1                   7                  7                  5         0  \n",
              "2                   3                  5                  2         0  \n",
              "3                   1                  2                  7         0  \n",
              "4                   3                  2                  7         0  \n",
              "...               ...                ...                ...       ...  \n",
              "2135                9                  5                  4         0  \n",
              "2136                5                 11                  4         0  \n",
              "2137                1                  3                  8         0  \n",
              "2138                6                  5                  8         0  \n",
              "2139                5                 10                  3         0  \n",
              "\n",
              "[2140 rows x 21 columns]"
            ],
            "text/html": [
              "\n",
              "  <div id=\"df-d2ada86a-9efc-49fc-8e69-4d6c91f4dcdc\">\n",
              "    <div class=\"colab-df-container\">\n",
              "      <div>\n",
              "<style scoped>\n",
              "    .dataframe tbody tr th:only-of-type {\n",
              "        vertical-align: middle;\n",
              "    }\n",
              "\n",
              "    .dataframe tbody tr th {\n",
              "        vertical-align: top;\n",
              "    }\n",
              "\n",
              "    .dataframe thead th {\n",
              "        text-align: right;\n",
              "    }\n",
              "</style>\n",
              "<table border=\"1\" class=\"dataframe\">\n",
              "  <thead>\n",
              "    <tr style=\"text-align: right;\">\n",
              "      <th></th>\n",
              "      <th>ID</th>\n",
              "      <th>Year_Birth</th>\n",
              "      <th>Country</th>\n",
              "      <th>Education</th>\n",
              "      <th>Marital_Status</th>\n",
              "      <th>Income</th>\n",
              "      <th>Kidhome</th>\n",
              "      <th>Teenhome</th>\n",
              "      <th>Dt_Customer</th>\n",
              "      <th>Recency</th>\n",
              "      <th>...</th>\n",
              "      <th>MntFruits</th>\n",
              "      <th>MntMeatProducts</th>\n",
              "      <th>MntFishProducts</th>\n",
              "      <th>MntSweetProducts</th>\n",
              "      <th>MntGoldProds</th>\n",
              "      <th>NumDealsPurchases</th>\n",
              "      <th>NumWebPurchases</th>\n",
              "      <th>NumStorePurchases</th>\n",
              "      <th>NumWebVisitsMonth</th>\n",
              "      <th>Complain</th>\n",
              "    </tr>\n",
              "  </thead>\n",
              "  <tbody>\n",
              "    <tr>\n",
              "      <th>0</th>\n",
              "      <td>1826</td>\n",
              "      <td>1970</td>\n",
              "      <td>SP</td>\n",
              "      <td>Graduation</td>\n",
              "      <td>Divorced</td>\n",
              "      <td>$84,835.00</td>\n",
              "      <td>0</td>\n",
              "      <td>0</td>\n",
              "      <td>6/16/14</td>\n",
              "      <td>0</td>\n",
              "      <td>...</td>\n",
              "      <td>104</td>\n",
              "      <td>379</td>\n",
              "      <td>111</td>\n",
              "      <td>189</td>\n",
              "      <td>218</td>\n",
              "      <td>1</td>\n",
              "      <td>4</td>\n",
              "      <td>6</td>\n",
              "      <td>1</td>\n",
              "      <td>0</td>\n",
              "    </tr>\n",
              "    <tr>\n",
              "      <th>1</th>\n",
              "      <td>1</td>\n",
              "      <td>1961</td>\n",
              "      <td>CA</td>\n",
              "      <td>Graduation</td>\n",
              "      <td>Single</td>\n",
              "      <td>$57,091.00</td>\n",
              "      <td>0</td>\n",
              "      <td>0</td>\n",
              "      <td>6/15/14</td>\n",
              "      <td>0</td>\n",
              "      <td>...</td>\n",
              "      <td>5</td>\n",
              "      <td>64</td>\n",
              "      <td>7</td>\n",
              "      <td>0</td>\n",
              "      <td>37</td>\n",
              "      <td>1</td>\n",
              "      <td>7</td>\n",
              "      <td>7</td>\n",
              "      <td>5</td>\n",
              "      <td>0</td>\n",
              "    </tr>\n",
              "    <tr>\n",
              "      <th>2</th>\n",
              "      <td>10476</td>\n",
              "      <td>1958</td>\n",
              "      <td>US</td>\n",
              "      <td>Graduation</td>\n",
              "      <td>Married</td>\n",
              "      <td>$67,267.00</td>\n",
              "      <td>0</td>\n",
              "      <td>1</td>\n",
              "      <td>5/13/14</td>\n",
              "      <td>0</td>\n",
              "      <td>...</td>\n",
              "      <td>11</td>\n",
              "      <td>59</td>\n",
              "      <td>15</td>\n",
              "      <td>2</td>\n",
              "      <td>30</td>\n",
              "      <td>1</td>\n",
              "      <td>3</td>\n",
              "      <td>5</td>\n",
              "      <td>2</td>\n",
              "      <td>0</td>\n",
              "    </tr>\n",
              "    <tr>\n",
              "      <th>3</th>\n",
              "      <td>1386</td>\n",
              "      <td>1967</td>\n",
              "      <td>AUS</td>\n",
              "      <td>Graduation</td>\n",
              "      <td>Together</td>\n",
              "      <td>$32,474.00</td>\n",
              "      <td>1</td>\n",
              "      <td>1</td>\n",
              "      <td>5/11/14</td>\n",
              "      <td>0</td>\n",
              "      <td>...</td>\n",
              "      <td>0</td>\n",
              "      <td>1</td>\n",
              "      <td>0</td>\n",
              "      <td>0</td>\n",
              "      <td>0</td>\n",
              "      <td>1</td>\n",
              "      <td>1</td>\n",
              "      <td>2</td>\n",
              "      <td>7</td>\n",
              "      <td>0</td>\n",
              "    </tr>\n",
              "    <tr>\n",
              "      <th>4</th>\n",
              "      <td>5371</td>\n",
              "      <td>1989</td>\n",
              "      <td>SP</td>\n",
              "      <td>Graduation</td>\n",
              "      <td>Single</td>\n",
              "      <td>$21,474.00</td>\n",
              "      <td>1</td>\n",
              "      <td>0</td>\n",
              "      <td>4/8/14</td>\n",
              "      <td>0</td>\n",
              "      <td>...</td>\n",
              "      <td>16</td>\n",
              "      <td>24</td>\n",
              "      <td>11</td>\n",
              "      <td>0</td>\n",
              "      <td>34</td>\n",
              "      <td>2</td>\n",
              "      <td>3</td>\n",
              "      <td>2</td>\n",
              "      <td>7</td>\n",
              "      <td>0</td>\n",
              "    </tr>\n",
              "    <tr>\n",
              "      <th>...</th>\n",
              "      <td>...</td>\n",
              "      <td>...</td>\n",
              "      <td>...</td>\n",
              "      <td>...</td>\n",
              "      <td>...</td>\n",
              "      <td>...</td>\n",
              "      <td>...</td>\n",
              "      <td>...</td>\n",
              "      <td>...</td>\n",
              "      <td>...</td>\n",
              "      <td>...</td>\n",
              "      <td>...</td>\n",
              "      <td>...</td>\n",
              "      <td>...</td>\n",
              "      <td>...</td>\n",
              "      <td>...</td>\n",
              "      <td>...</td>\n",
              "      <td>...</td>\n",
              "      <td>...</td>\n",
              "      <td>...</td>\n",
              "      <td>...</td>\n",
              "    </tr>\n",
              "    <tr>\n",
              "      <th>2135</th>\n",
              "      <td>9977</td>\n",
              "      <td>1973</td>\n",
              "      <td>US</td>\n",
              "      <td>Graduation</td>\n",
              "      <td>Divorced</td>\n",
              "      <td>$78,901.00</td>\n",
              "      <td>0</td>\n",
              "      <td>1</td>\n",
              "      <td>9/17/13</td>\n",
              "      <td>99</td>\n",
              "      <td>...</td>\n",
              "      <td>11</td>\n",
              "      <td>309</td>\n",
              "      <td>33</td>\n",
              "      <td>26</td>\n",
              "      <td>34</td>\n",
              "      <td>3</td>\n",
              "      <td>9</td>\n",
              "      <td>5</td>\n",
              "      <td>4</td>\n",
              "      <td>0</td>\n",
              "    </tr>\n",
              "    <tr>\n",
              "      <th>2136</th>\n",
              "      <td>10142</td>\n",
              "      <td>1976</td>\n",
              "      <td>US</td>\n",
              "      <td>PhD</td>\n",
              "      <td>Divorced</td>\n",
              "      <td>$66,476.00</td>\n",
              "      <td>0</td>\n",
              "      <td>1</td>\n",
              "      <td>3/7/13</td>\n",
              "      <td>99</td>\n",
              "      <td>...</td>\n",
              "      <td>18</td>\n",
              "      <td>126</td>\n",
              "      <td>47</td>\n",
              "      <td>48</td>\n",
              "      <td>78</td>\n",
              "      <td>2</td>\n",
              "      <td>5</td>\n",
              "      <td>11</td>\n",
              "      <td>4</td>\n",
              "      <td>0</td>\n",
              "    </tr>\n",
              "    <tr>\n",
              "      <th>2137</th>\n",
              "      <td>5263</td>\n",
              "      <td>1977</td>\n",
              "      <td>SP</td>\n",
              "      <td>2n Cycle</td>\n",
              "      <td>Married</td>\n",
              "      <td>$31,056.00</td>\n",
              "      <td>1</td>\n",
              "      <td>0</td>\n",
              "      <td>1/22/13</td>\n",
              "      <td>99</td>\n",
              "      <td>...</td>\n",
              "      <td>10</td>\n",
              "      <td>13</td>\n",
              "      <td>3</td>\n",
              "      <td>8</td>\n",
              "      <td>16</td>\n",
              "      <td>1</td>\n",
              "      <td>1</td>\n",
              "      <td>3</td>\n",
              "      <td>8</td>\n",
              "      <td>0</td>\n",
              "    </tr>\n",
              "    <tr>\n",
              "      <th>2138</th>\n",
              "      <td>22</td>\n",
              "      <td>1976</td>\n",
              "      <td>SP</td>\n",
              "      <td>Graduation</td>\n",
              "      <td>Divorced</td>\n",
              "      <td>$46,310.00</td>\n",
              "      <td>1</td>\n",
              "      <td>0</td>\n",
              "      <td>12/3/12</td>\n",
              "      <td>99</td>\n",
              "      <td>...</td>\n",
              "      <td>2</td>\n",
              "      <td>88</td>\n",
              "      <td>15</td>\n",
              "      <td>5</td>\n",
              "      <td>14</td>\n",
              "      <td>2</td>\n",
              "      <td>6</td>\n",
              "      <td>5</td>\n",
              "      <td>8</td>\n",
              "      <td>0</td>\n",
              "    </tr>\n",
              "    <tr>\n",
              "      <th>2139</th>\n",
              "      <td>528</td>\n",
              "      <td>1978</td>\n",
              "      <td>IND</td>\n",
              "      <td>Graduation</td>\n",
              "      <td>Married</td>\n",
              "      <td>$65,819.00</td>\n",
              "      <td>0</td>\n",
              "      <td>0</td>\n",
              "      <td>11/29/12</td>\n",
              "      <td>99</td>\n",
              "      <td>...</td>\n",
              "      <td>38</td>\n",
              "      <td>701</td>\n",
              "      <td>149</td>\n",
              "      <td>165</td>\n",
              "      <td>63</td>\n",
              "      <td>1</td>\n",
              "      <td>5</td>\n",
              "      <td>10</td>\n",
              "      <td>3</td>\n",
              "      <td>0</td>\n",
              "    </tr>\n",
              "  </tbody>\n",
              "</table>\n",
              "<p>2140 rows × 21 columns</p>\n",
              "</div>\n",
              "      <button class=\"colab-df-convert\" onclick=\"convertToInteractive('df-d2ada86a-9efc-49fc-8e69-4d6c91f4dcdc')\"\n",
              "              title=\"Convert this dataframe to an interactive table.\"\n",
              "              style=\"display:none;\">\n",
              "        \n",
              "  <svg xmlns=\"http://www.w3.org/2000/svg\" height=\"24px\"viewBox=\"0 0 24 24\"\n",
              "       width=\"24px\">\n",
              "    <path d=\"M0 0h24v24H0V0z\" fill=\"none\"/>\n",
              "    <path d=\"M18.56 5.44l.94 2.06.94-2.06 2.06-.94-2.06-.94-.94-2.06-.94 2.06-2.06.94zm-11 1L8.5 8.5l.94-2.06 2.06-.94-2.06-.94L8.5 2.5l-.94 2.06-2.06.94zm10 10l.94 2.06.94-2.06 2.06-.94-2.06-.94-.94-2.06-.94 2.06-2.06.94z\"/><path d=\"M17.41 7.96l-1.37-1.37c-.4-.4-.92-.59-1.43-.59-.52 0-1.04.2-1.43.59L10.3 9.45l-7.72 7.72c-.78.78-.78 2.05 0 2.83L4 21.41c.39.39.9.59 1.41.59.51 0 1.02-.2 1.41-.59l7.78-7.78 2.81-2.81c.8-.78.8-2.07 0-2.86zM5.41 20L4 18.59l7.72-7.72 1.47 1.35L5.41 20z\"/>\n",
              "  </svg>\n",
              "      </button>\n",
              "      \n",
              "  <style>\n",
              "    .colab-df-container {\n",
              "      display:flex;\n",
              "      flex-wrap:wrap;\n",
              "      gap: 12px;\n",
              "    }\n",
              "\n",
              "    .colab-df-convert {\n",
              "      background-color: #E8F0FE;\n",
              "      border: none;\n",
              "      border-radius: 50%;\n",
              "      cursor: pointer;\n",
              "      display: none;\n",
              "      fill: #1967D2;\n",
              "      height: 32px;\n",
              "      padding: 0 0 0 0;\n",
              "      width: 32px;\n",
              "    }\n",
              "\n",
              "    .colab-df-convert:hover {\n",
              "      background-color: #E2EBFA;\n",
              "      box-shadow: 0px 1px 2px rgba(60, 64, 67, 0.3), 0px 1px 3px 1px rgba(60, 64, 67, 0.15);\n",
              "      fill: #174EA6;\n",
              "    }\n",
              "\n",
              "    [theme=dark] .colab-df-convert {\n",
              "      background-color: #3B4455;\n",
              "      fill: #D2E3FC;\n",
              "    }\n",
              "\n",
              "    [theme=dark] .colab-df-convert:hover {\n",
              "      background-color: #434B5C;\n",
              "      box-shadow: 0px 1px 3px 1px rgba(0, 0, 0, 0.15);\n",
              "      filter: drop-shadow(0px 1px 2px rgba(0, 0, 0, 0.3));\n",
              "      fill: #FFFFFF;\n",
              "    }\n",
              "  </style>\n",
              "\n",
              "      <script>\n",
              "        const buttonEl =\n",
              "          document.querySelector('#df-d2ada86a-9efc-49fc-8e69-4d6c91f4dcdc button.colab-df-convert');\n",
              "        buttonEl.style.display =\n",
              "          google.colab.kernel.accessAllowed ? 'block' : 'none';\n",
              "\n",
              "        async function convertToInteractive(key) {\n",
              "          const element = document.querySelector('#df-d2ada86a-9efc-49fc-8e69-4d6c91f4dcdc');\n",
              "          const dataTable =\n",
              "            await google.colab.kernel.invokeFunction('convertToInteractive',\n",
              "                                                     [key], {});\n",
              "          if (!dataTable) return;\n",
              "\n",
              "          const docLinkHtml = 'Like what you see? Visit the ' +\n",
              "            '<a target=\"_blank\" href=https://colab.research.google.com/notebooks/data_table.ipynb>data table notebook</a>'\n",
              "            + ' to learn more about interactive tables.';\n",
              "          element.innerHTML = '';\n",
              "          dataTable['output_type'] = 'display_data';\n",
              "          await google.colab.output.renderOutput(dataTable, element);\n",
              "          const docLink = document.createElement('div');\n",
              "          docLink.innerHTML = docLinkHtml;\n",
              "          element.appendChild(docLink);\n",
              "        }\n",
              "      </script>\n",
              "    </div>\n",
              "  </div>\n",
              "  "
            ]
          },
          "metadata": {},
          "execution_count": 6
        }
      ]
    },
    {
      "cell_type": "markdown",
      "source": [
        "### **2-1. 데이터셋 살펴보기**\n",
        "\n",
        "- 데이터셋을 데이터프레임 형태로 불러오세요.\n",
        "- `Income` column 이름 앞뒤의 공백을 제거하세요.\n",
        "- 데이터셋의 결측치를 살펴보고, 있다면 제거하고 인덱스를 재설정하세요.\n",
        "- `Income`의 데이터타입을 `int`로 변경하세요.\n",
        "  - 필요시 다음의 코드를 활용해보세요.\n",
        "  \n",
        "\n",
        "  ```python\n",
        "  import re\n",
        "\n",
        "  def cleaning(df):\n",
        "    li = []\n",
        "    for row in df['Income']:\n",
        "      splited = row.split('.') # .을 기준으로 문자열을 분리합니다.\n",
        "      result = re.sub('[^0-9]','', splited[0]) # .기준 앞 부분만 활용하여 숫자가 아닌 문자는 공백으로 치환합니다.\n",
        "      li.append(int(result))\n",
        "  \n",
        "    df['Income'] = li\n",
        "  ```\n",
        "\n",
        "- `Income`의 이상치를 제거하세요.\n",
        "  - 다음의 코드를 통해 `Income`의 분포를 비교해보세요.\n",
        "\n",
        "  ```python\n",
        "  plt.hist(df['Income']);\n",
        "\n",
        "  plt.hist(df.loc[df['Income'] < 120000, 'Income']);\n",
        "  ```\n",
        "\n",
        "  - `Income`이 120000 이상이 되는 값은 이상치로 간주하여 해당 row를 삭제하고 인덱스를 재설정하세요.\n",
        "\n",
        "- 위의 전처리 과정을 완료한 데이터프레임을 `df_final` 변수로 저장하세요."
      ],
      "metadata": {
        "id": "kZGgXCglUznv"
      }
    },
    {
      "cell_type": "code",
      "source": [
        "import re\n",
        "\n",
        "print(df_clean.columns)\n",
        "df_clean = df_clean.rename(columns={' Income ':'Income'})\n",
        "print(df_clean.columns)"
      ],
      "metadata": {
        "colab": {
          "base_uri": "https://localhost:8080/"
        },
        "id": "869IfHNXOUXS",
        "outputId": "fcbe1614-1fdb-4d7a-97cd-ddbe56941cf9"
      },
      "execution_count": 7,
      "outputs": [
        {
          "output_type": "stream",
          "name": "stdout",
          "text": [
            "Index(['ID', 'Year_Birth', 'Country', 'Education', 'Marital_Status',\n",
            "       ' Income ', 'Kidhome', 'Teenhome', 'Dt_Customer', 'Recency', 'MntWines',\n",
            "       'MntFruits', 'MntMeatProducts', 'MntFishProducts', 'MntSweetProducts',\n",
            "       'MntGoldProds', 'NumDealsPurchases', 'NumWebPurchases',\n",
            "       'NumStorePurchases', 'NumWebVisitsMonth', 'Complain'],\n",
            "      dtype='object')\n",
            "Index(['ID', 'Year_Birth', 'Country', 'Education', 'Marital_Status', 'Income',\n",
            "       'Kidhome', 'Teenhome', 'Dt_Customer', 'Recency', 'MntWines',\n",
            "       'MntFruits', 'MntMeatProducts', 'MntFishProducts', 'MntSweetProducts',\n",
            "       'MntGoldProds', 'NumDealsPurchases', 'NumWebPurchases',\n",
            "       'NumStorePurchases', 'NumWebVisitsMonth', 'Complain'],\n",
            "      dtype='object')\n"
          ]
        }
      ]
    },
    {
      "cell_type": "code",
      "source": [
        "df_clean1 = df_clean.dropna().reset_index()\n",
        "df_clean1.info()"
      ],
      "metadata": {
        "colab": {
          "base_uri": "https://localhost:8080/"
        },
        "id": "Z96uZ1ycVfC0",
        "outputId": "4a22d1fd-6af7-4857-91a7-d241c3584007"
      },
      "execution_count": 8,
      "outputs": [
        {
          "output_type": "stream",
          "name": "stdout",
          "text": [
            "<class 'pandas.core.frame.DataFrame'>\n",
            "RangeIndex: 2119 entries, 0 to 2118\n",
            "Data columns (total 22 columns):\n",
            " #   Column             Non-Null Count  Dtype \n",
            "---  ------             --------------  ----- \n",
            " 0   index              2119 non-null   int64 \n",
            " 1   ID                 2119 non-null   int64 \n",
            " 2   Year_Birth         2119 non-null   int64 \n",
            " 3   Country            2119 non-null   object\n",
            " 4   Education          2119 non-null   object\n",
            " 5   Marital_Status     2119 non-null   object\n",
            " 6   Income             2119 non-null   object\n",
            " 7   Kidhome            2119 non-null   int64 \n",
            " 8   Teenhome           2119 non-null   int64 \n",
            " 9   Dt_Customer        2119 non-null   object\n",
            " 10  Recency            2119 non-null   int64 \n",
            " 11  MntWines           2119 non-null   int64 \n",
            " 12  MntFruits          2119 non-null   int64 \n",
            " 13  MntMeatProducts    2119 non-null   int64 \n",
            " 14  MntFishProducts    2119 non-null   int64 \n",
            " 15  MntSweetProducts   2119 non-null   int64 \n",
            " 16  MntGoldProds       2119 non-null   int64 \n",
            " 17  NumDealsPurchases  2119 non-null   int64 \n",
            " 18  NumWebPurchases    2119 non-null   int64 \n",
            " 19  NumStorePurchases  2119 non-null   int64 \n",
            " 20  NumWebVisitsMonth  2119 non-null   int64 \n",
            " 21  Complain           2119 non-null   int64 \n",
            "dtypes: int64(17), object(5)\n",
            "memory usage: 364.3+ KB\n"
          ]
        }
      ]
    },
    {
      "cell_type": "code",
      "source": [
        "splited = df_clean1['Income'].str.split('.', expand=True)\n",
        "clean = splited[0].str.replace('$','')\n",
        "clean2 = clean.str.replace(',','').astype('int')\n",
        "\n",
        "df_clean1['Income'] = clean2\n"
      ],
      "metadata": {
        "colab": {
          "base_uri": "https://localhost:8080/"
        },
        "id": "jQ0ZgQ-PTthP",
        "outputId": "6c770bc3-6b3b-4057-f2e9-e8248435870b"
      },
      "execution_count": 9,
      "outputs": [
        {
          "output_type": "stream",
          "name": "stderr",
          "text": [
            "<ipython-input-9-760d9e592454>:2: FutureWarning: The default value of regex will change from True to False in a future version. In addition, single character regular expressions will *not* be treated as literal strings when regex=True.\n",
            "  clean = splited[0].str.replace('$','')\n"
          ]
        }
      ]
    },
    {
      "cell_type": "code",
      "source": [
        "df_clean1.info()"
      ],
      "metadata": {
        "colab": {
          "base_uri": "https://localhost:8080/"
        },
        "id": "scLs_LJkRSZS",
        "outputId": "7605e2f5-96aa-4aa9-9163-e45392a42478"
      },
      "execution_count": 10,
      "outputs": [
        {
          "output_type": "stream",
          "name": "stdout",
          "text": [
            "<class 'pandas.core.frame.DataFrame'>\n",
            "RangeIndex: 2119 entries, 0 to 2118\n",
            "Data columns (total 22 columns):\n",
            " #   Column             Non-Null Count  Dtype \n",
            "---  ------             --------------  ----- \n",
            " 0   index              2119 non-null   int64 \n",
            " 1   ID                 2119 non-null   int64 \n",
            " 2   Year_Birth         2119 non-null   int64 \n",
            " 3   Country            2119 non-null   object\n",
            " 4   Education          2119 non-null   object\n",
            " 5   Marital_Status     2119 non-null   object\n",
            " 6   Income             2119 non-null   int64 \n",
            " 7   Kidhome            2119 non-null   int64 \n",
            " 8   Teenhome           2119 non-null   int64 \n",
            " 9   Dt_Customer        2119 non-null   object\n",
            " 10  Recency            2119 non-null   int64 \n",
            " 11  MntWines           2119 non-null   int64 \n",
            " 12  MntFruits          2119 non-null   int64 \n",
            " 13  MntMeatProducts    2119 non-null   int64 \n",
            " 14  MntFishProducts    2119 non-null   int64 \n",
            " 15  MntSweetProducts   2119 non-null   int64 \n",
            " 16  MntGoldProds       2119 non-null   int64 \n",
            " 17  NumDealsPurchases  2119 non-null   int64 \n",
            " 18  NumWebPurchases    2119 non-null   int64 \n",
            " 19  NumStorePurchases  2119 non-null   int64 \n",
            " 20  NumWebVisitsMonth  2119 non-null   int64 \n",
            " 21  Complain           2119 non-null   int64 \n",
            "dtypes: int64(18), object(4)\n",
            "memory usage: 364.3+ KB\n"
          ]
        }
      ]
    },
    {
      "cell_type": "code",
      "source": [
        "plt.hist(df_clean1['Income']);\n",
        "\n",
        "plt.hist(df_clean1.loc[df_clean1['Income'] < 120000, 'Income']);\n",
        "Income = df_clean1.iloc[:,6]\n",
        "Income"
      ],
      "metadata": {
        "colab": {
          "base_uri": "https://localhost:8080/",
          "height": 486
        },
        "id": "ZNhrivqnY7XO",
        "outputId": "d3458919-750f-4059-e056-a4d437e0e3a8"
      },
      "execution_count": 11,
      "outputs": [
        {
          "output_type": "execute_result",
          "data": {
            "text/plain": [
              "0       84835\n",
              "1       57091\n",
              "2       67267\n",
              "3       32474\n",
              "4       21474\n",
              "        ...  \n",
              "2114    78901\n",
              "2115    66476\n",
              "2116    31056\n",
              "2117    46310\n",
              "2118    65819\n",
              "Name: Income, Length: 2119, dtype: int64"
            ]
          },
          "metadata": {},
          "execution_count": 11
        },
        {
          "output_type": "display_data",
          "data": {
            "text/plain": [
              "<Figure size 432x288 with 1 Axes>"
            ],
            "image/png": "[encoded data removed]"
          },
          "metadata": {
            "needs_background": "light"
          }
        }
      ]
    },
    {
      "cell_type": "code",
      "source": [
        "dropindex = Income[Income >= 120000].index\n",
        "df_final = df_clean1.drop(dropindex)"
      ],
      "metadata": {
        "id": "R6mlqKCeZI2G"
      },
      "execution_count": 12,
      "outputs": []
    },
    {
      "cell_type": "markdown",
      "source": [
        "##### **Q2. `df_final`의 행의 개수를 쓰세요.**"
      ],
      "metadata": {
        "id": "U9teUfVZBMpK"
      }
    },
    {
      "cell_type": "code",
      "source": [
        "# 아래의 코드를 실행해 주세요. 업그레이드 완료 후에는 런타임을 재시작해야 합니다. \n",
        "!pip install scipy --upgrade"
      ],
      "metadata": {
        "colab": {
          "base_uri": "https://localhost:8080/"
        },
        "id": "jR7CP6nFSQKw",
        "outputId": "d8b303a4-e56b-490f-d11a-e6ff2033c984"
      },
      "execution_count": 13,
      "outputs": [
        {
          "output_type": "stream",
          "name": "stdout",
          "text": [
            "Looking in indexes: https://pypi.org/simple, https://us-python.pkg.dev/colab-wheels/public/simple/\n",
            "Requirement already satisfied: scipy in /usr/local/lib/python3.8/dist-packages (1.7.3)\n",
            "Collecting scipy\n",
            "  Downloading scipy-1.10.0-cp38-cp38-manylinux_2_17_x86_64.manylinux2014_x86_64.whl (34.5 MB)\n",
            "\u001b[2K     \u001b[90m━━━━━━━━━━━━━━━━━━━━━━━━━━━━━━━━━━━━━━━━\u001b[0m \u001b[32m34.5/34.5 MB\u001b[0m \u001b[31m37.0 MB/s\u001b[0m eta \u001b[36m0:00:00\u001b[0m\n",
            "\u001b[?25hRequirement already satisfied: numpy<1.27.0,>=1.19.5 in /usr/local/lib/python3.8/dist-packages (from scipy) (1.21.6)\n",
            "Installing collected packages: scipy\n",
            "  Attempting uninstall: scipy\n",
            "    Found existing installation: scipy 1.7.3\n",
            "    Uninstalling scipy-1.7.3:\n",
            "      Successfully uninstalled scipy-1.7.3\n",
            "Successfully installed scipy-1.10.0\n"
          ]
        }
      ]
    },
    {
      "cell_type": "code",
      "source": [
        "# 이곳에 코드를 작성하세요.\n",
        "df_final.shape[0]"
      ],
      "metadata": {
        "id": "KYlkINRZl_3f",
        "colab": {
          "base_uri": "https://localhost:8080/"
        },
        "outputId": "656f9321-a9df-43a7-db20-939b84bc0231"
      },
      "execution_count": 14,
      "outputs": [
        {
          "output_type": "execute_result",
          "data": {
            "text/plain": [
              "2111"
            ]
          },
          "metadata": {},
          "execution_count": 14
        }
      ]
    },
    {
      "cell_type": "markdown",
      "source": [
        "### **2-2. sample의 평균값과 모집단의 평균값을 비교해봅니다.**\n",
        "\n",
        "- `seed`는 2로 지정하세요.\n",
        "  - 동일한 결과값을 도출하기 위해, seed 지정 코드 하단에 이 문제에 대한 코드를 작성해주세요.\n",
        "- `df_final`을 모집단으로 가정한 후, `Income` column의 평균을 구해 `mean_pop` 변수에 저장하세요.\n",
        "- sample size가 5일 때, 해당 데이터셋의 `Income` 데이터를 10,000번 중복 추출한 표본 평균들을 `sample_5` 라는 이름의 array에 저장하세요.\n",
        "  - `mean_pop`에서 `sample_5`의 평균을 뺀 값을 `diff_5`에 저장하세요.\n",
        "- sample size가 200일 때, 해당 데이터셋의 `Income` 데이터를 10,000번 중복 추출한 표본 평균들을 `sample_200` 라는 이름의 array에 저장하세요.\n",
        "  - `mean_pop`에서 `sample_200`의 평균을 뺀 값을 `diff_200`에 저장하세요.\n",
        "\n",
        "\n"
      ],
      "metadata": {
        "id": "3iICO7ltZe_Y"
      }
    },
    {
      "cell_type": "markdown",
      "source": [
        "##### **Q3. `diff_5`, `diff_200`의 결과를 각각 반올림하여 소수점 둘째 자리까지 (`diff_5`, `diff_200`)의 형태로 쓰세요.**\n",
        "\n",
        "- 동일한 결과값을 도출하기 위해, seed 지정 코드를 반드시 실행 해야 합니다.\n",
        "- 2-2 문제를 푸는데 필요한 모든 내용이 seed 지정 코드가 있는 셀에 들어가도록 코드를 작성해주세요.\n"
      ],
      "metadata": {
        "id": "1xyWbCuNBbRq"
      }
    },
    {
      "cell_type": "code",
      "source": [
        "# seed 지정 (반드시 실행)\n",
        "np.random.seed(2)\n",
        "\n",
        "# 이곳에 2-2번 문제에 대한 모든 코드를 작성하세요.\n",
        "# 시드지정\n",
        "np.random.seed(2)\n",
        "\n",
        "pop = df_final['Income']\n",
        "mean_pop = pop.mean()\n",
        "print(mean_pop)\n",
        "\n",
        "# 샘플 5\n",
        "sample_5 = []\n",
        "\n",
        "for _ in range(10000):\n",
        "    sample = np.random.choice(pop, 5)\n",
        "    sample_5.append(sample.mean())\n",
        "\n",
        "sample5_mean = np.mean(sample_5)\n",
        "diff_5 = mean_pop - sample5_mean\n",
        "print(diff_5)\n",
        "\n",
        "# 샘플 200\n",
        "sample_200 = []\n",
        "\n",
        "for _ in range(10000):\n",
        "    sample = np.random.choice(pop, 200)\n",
        "    sample_200.append(sample.mean())\n",
        "\n",
        "sample200_mean = np.mean(sample_200)\n",
        "diff_200 = mean_pop - sample200_mean\n",
        "print(diff_200)\n",
        "\n",
        "print(round(diff_5,2))\n",
        "print(round(diff_200,2))"
      ],
      "metadata": {
        "id": "zft5OPCcXGef",
        "colab": {
          "base_uri": "https://localhost:8080/"
        },
        "outputId": "c9e9b900-2187-4297-dd0b-a134d9cc0c70"
      },
      "execution_count": 15,
      "outputs": [
        {
          "output_type": "stream",
          "name": "stdout",
          "text": [
            "51810.85078162009\n",
            "101.97144162008044\n",
            "11.347692620081943\n",
            "101.97\n",
            "11.35\n"
          ]
        }
      ]
    },
    {
      "cell_type": "markdown",
      "source": [
        "### **2-3. sample의 분포를 통해 신뢰구간을 확인합니다.**\n",
        "**2-2**에서 구현한 `sample_200` 표본 분포를 활용하여 모집단의 모수를 포함할 확률이 95%가 되는 구간을 찾아봅니다.\n",
        "\n"
      ],
      "metadata": {
        "id": "mlPTnYPCZosQ"
      }
    },
    {
      "cell_type": "markdown",
      "source": [
        "##### **Q4. 95% 신뢰구간의 lower limit과 upper limit을 각각 반올림하여 소수점 둘째 자리까지 (lower limit, upper limit)의 형태로 쓰세요.**"
      ],
      "metadata": {
        "id": "VvDR30q5Bvk_"
      }
    },
    {
      "cell_type": "code",
      "source": [
        "# 이곳에 코드를 작성하세요.\n",
        "lower, upper = np.percentile(sample_200, 2.5), np.percentile(sample_200, 97.5)\n",
        "\n",
        "print(round(lower,2))\n",
        "print(round(upper,2))"
      ],
      "metadata": {
        "id": "bqkUt_3WmG95",
        "colab": {
          "base_uri": "https://localhost:8080/"
        },
        "outputId": "937362c1-aa48-4515-86a4-a67f72d43836"
      },
      "execution_count": 16,
      "outputs": [
        {
          "output_type": "stream",
          "name": "stdout",
          "text": [
            "48895.97\n",
            "54727.84\n"
          ]
        }
      ]
    },
    {
      "cell_type": "markdown",
      "source": [
        "## **Part 3. Hypothesis Test**\n",
        "\n",
        "데이터에서 다양한 시나리오를 파악하고 옳은 가설을 세우는 것은 매우 중요합니다. 위에 우리에게 주어진 데이터셋에 대해서도 다양한 시나리오에 대해 생각해볼 수 있습니다.\n",
        "\n",
        "주어진 데이터셋에는 자녀가 청소년인지 여부를 나타내는 `Teenhome`과 연간 수입을 나타내는 `Income` 정보가 존재하는데, 청소년 자녀가 있는 경우 자녀의 연령에 따라 증가하는 지출, 고객의 회사 내 지위 등을 고려하여 수입이 증가할 것이라는 가설을 생각해 볼 수 있습니다. \n",
        "\n",
        "따라서 **고객의 자녀가 청소년인지 여부에 따라 연간 수입 평균값의 차이가 있는지** 가설검정을 통해 확인해보도록 하겠습니다."
      ],
      "metadata": {
        "id": "DcPtz22vU_Uw"
      }
    },
    {
      "cell_type": "markdown",
      "source": [
        "### **3-1. One-tailed Test**\n",
        "\n",
        "> 고객의 자녀가 청소년인 경우의 연간 수입 평균값이 그렇지 않은 경우보다 더 많은지 가설 검증을 시행하고자 합니다. ($\\alpha$ = 0.05)\n",
        "- 자녀가 청소년인 경우 고객의 연간 수입 평균값: $μ_{yes}$\n",
        "- 자녀가 청소년이 아닌 경우 고객의 연간 수입 평균값: $μ_{no}$\n",
        "\n",
        "\n",
        "\n",
        "\n"
      ],
      "metadata": {
        "id": "Zi8GxxoqHW78"
      }
    },
    {
      "cell_type": "markdown",
      "source": [
        "\n",
        "- 이번 문제에서는 scipy 라이브러리의 [`.ttest_ind()`](https://docs.scipy.org/doc/scipy/reference/generated/scipy.stats.ttest_ind.html)를 사용하여 가설검정을 진행하세요.\n",
        "  - `equal_val` 파라미터를 False로 지정합니다."
      ],
      "metadata": {
        "id": "vuLH6E51GCVP"
      }
    },
    {
      "cell_type": "markdown",
      "source": [
        "##### **Q5. 이 경우에는 귀무가설과 대립가설을 어떻게 세워야 할까요?**\n",
        "\n",
        "a. $H_0$: $μ_{no} ≥ μ_{yes}\\;$, $\\;H_a$: $μ_{no} < μ_{yes}$\n",
        "\n",
        "b. $H_0$: $μ_{no} < μ_{yes}\\;$, $\\;H_a$: $μ_{no} ≥ μ_{yes}$\n",
        "\n",
        "c. $H_0$: $μ_{no} > μ_{yes}\\;$, $\\;H_a$: $μ_{no} ≤ μ_{yes}$\n",
        "\n",
        "d. $H_0$: $μ_{no} ≤ μ_{yes}\\;$, $\\;H_a$: $μ_{no} > μ_{yes}$\n",
        "\n",
        "\n",
        "\n"
      ],
      "metadata": {
        "id": "aTPhPeTmCF6g"
      }
    },
    {
      "cell_type": "markdown",
      "source": [
        "**`이곳에 Q5에 대한 답을 작성하세요.`**"
      ],
      "metadata": {
        "id": "1TW2aQBSZk8m"
      }
    },
    {
      "cell_type": "code",
      "source": [
        "# 이곳에 코드를 작성하세요.\n",
        "# H0 :  μno≥μyes ,  Ha :  μno<μyes\n",
        "t, p = st.ttest_ind(df_final.Income[df_final.Teenhome == 0], df_final.Income[df_final.Teenhome == 1], alternative = 'greater', equal_var= False)\n",
        "print(\"welch's t test Result\\n ------------------------\")\n",
        "print(\"t-value =\", round(t,2))\n",
        "\n",
        "# p value \n",
        "if p > 0.05:\n",
        "    print(\"p-value =\", round(p, 3),\"통계적으로 유의하지 않았다. \")\n",
        "else:\n",
        "    print(\"p-value =\", round(p, 3),\" \\n 으로 통계적으로 유의한 차이가 발생하였다.\")\n",
        "\n",
        "\n",
        "cvr_con = df_final.groupby('Teenhome').Income.mean()[1]\n",
        "cvr_exp = df_final.groupby('Teenhome').Income.mean()[0]\n",
        "\n",
        "cvr_diff = cvr_exp - cvr_con"
      ],
      "metadata": {
        "id": "M0rcNkrlXskA",
        "colab": {
          "base_uri": "https://localhost:8080/"
        },
        "outputId": "45140825-7e39-4e07-8845-aa62393a2a65"
      },
      "execution_count": 17,
      "outputs": [
        {
          "output_type": "stream",
          "name": "stdout",
          "text": [
            "welch's t test Result\n",
            " ------------------------\n",
            "t-value = -1.64\n",
            "p-value = 0.949 통계적으로 유의하지 않았다. \n"
          ]
        }
      ]
    },
    {
      "cell_type": "markdown",
      "source": [
        "##### **Q6. 다음 중 위의 가설검정 결과로 나온 p-value를 통해 도출한 결론을 고르세요.** \n",
        "\n",
        "a. p-value가 0.05보다 작으므로 귀무가설을 기각하고 대립가설을 채택한다.\n",
        "\n",
        "b. p-value가 0.05보다 크므로 귀무가설을 기각하지 못한다.\n",
        "\n",
        "c. p-value가 0.05보다 작으므로 귀무가설을 기각하지 못한다.\n",
        "\n",
        "d. p-value가 0.05보다 크므로 귀무가설을 기각하고 대립가설을 채택한다.\n",
        "\n",
        "e. p-value가 0.05보다 크므로 귀무가설과 대립가설 모두를 채택한다."
      ],
      "metadata": {
        "id": "wxR02lXtCMjE"
      }
    },
    {
      "cell_type": "markdown",
      "source": [
        "**`이곳에 Q6에 대한 답을 작성하세요.`**"
      ],
      "metadata": {
        "id": "AGQzJvEoaUeG"
      }
    },
    {
      "cell_type": "code",
      "source": [
        "# b"
      ],
      "metadata": {
        "id": "oU0jzTUjhCV7"
      },
      "execution_count": 18,
      "outputs": []
    },
    {
      "cell_type": "markdown",
      "source": [
        "### **3-2. Two-tailed Test**\n",
        "\n",
        "> 고객의 자녀가 청소년인 경우의 연간 수입 평균값이 그렇지 않은 경우와 차이가 있는지 가설검정을 시행하고자 합니다. ($\\alpha$ = 0.05)\n",
        "- 자녀가 청소년인 경우 고객의 연간 수입 평균값: $μ_{yes}$\n",
        "- 자녀가 청소년이 아닌 경우 고객의 연간 수입 평균값: $μ_{no}$\n",
        "\n",
        "- 이번 문제에서는 scipy 라이브러리의 [`.ttest_ind()`](https://docs.scipy.org/doc/scipy/reference/generated/scipy.stats.ttest_ind.html)를 사용하여 가설검정을 진행하세요.\n",
        "  - `equal_val` 파라미터를 False로 지정합니다.\n",
        "\n",
        "\n",
        "\n",
        "\n"
      ],
      "metadata": {
        "id": "CXIay0_nQfqC"
      }
    },
    {
      "cell_type": "markdown",
      "source": [
        "##### **Q7. 이 경우에는 귀무가설과 대립가설을 어떻게 세워야 할까요?** \n",
        "\n",
        "a. $H_0$: $μ_{no} \\neq\\; μ_{yes}\\;$, $\\;H_a$: $μ_{no} = \\;μ_{yes}$\n",
        "\n",
        "b. $H_0$: $μ_{no} < μ_{yes}\\;$, $\\;H_a$: $μ_{no} ≥ μ_{yes}$\n",
        "\n",
        "c. $H_0$: $μ_{no} =\\; μ_{yes}\\;$, $\\;H_a$: $μ_{no} \\neq \\;μ_{yes}$ \n",
        "\n",
        "d. $H_0$: $μ_{no} ≤ μ_{yes}\\;$, $\\;H_a$: $μ_{no} > μ_{yes}$\n",
        "\n",
        "</br>\n",
        "\n",
        "\n",
        "\n",
        "\n",
        "\n"
      ],
      "metadata": {
        "id": "2o_fsRGMSvPM"
      }
    },
    {
      "cell_type": "markdown",
      "source": [
        "**`이곳에 Q7에 대한 답을 작성하세요.`**"
      ],
      "metadata": {
        "id": "LR-PvAWHaNSp"
      }
    },
    {
      "cell_type": "markdown",
      "source": [
        "##### **Q8. 위의 가설 검정 결과로 나온 p-value를 반올림하여 소수점 둘째 자리까지 쓰세요.**"
      ],
      "metadata": {
        "id": "lpIx4YjvCZRe"
      }
    },
    {
      "cell_type": "code",
      "source": [
        "# 이곳에 코드를 작성하세요.\n",
        "t, p = st.ttest_ind(df_final.Income[df_final.Teenhome == 0], df_final.Income[df_final.Teenhome == 1], alternative = 'two-sided', equal_var= False)\n",
        "print(\"welch's t test Result\\n ------------------------\")\n",
        "print(\"t-value =\", round(t,2))\n",
        "\n",
        "# p value \n",
        "if p > 0.05:\n",
        "    print(\"p-value =\", round(p, 3),\"통계적으로 유의하지 않았다. \")\n",
        "else:\n",
        "    print(\"p-value =\", round(p, 3),\" \\n 으로 통계적으로 유의한 차이가 발생하였다.\")\n",
        "\n"
      ],
      "metadata": {
        "id": "61ogWGYwmtz1",
        "colab": {
          "base_uri": "https://localhost:8080/"
        },
        "outputId": "90afa7bb-2f56-4013-a927-af581034cb84"
      },
      "execution_count": 19,
      "outputs": [
        {
          "output_type": "stream",
          "name": "stdout",
          "text": [
            "welch's t test Result\n",
            " ------------------------\n",
            "t-value = -1.64\n",
            "p-value = 0.101 통계적으로 유의하지 않았다. \n"
          ]
        }
      ]
    },
    {
      "cell_type": "markdown",
      "source": [
        "## **Part 4. 도전 과제**\n",
        "\n",
        "위에서 요구된 사항들을 모두 정확하게 만족하였으며, 아래 내용 또한 만족하는 경우 3점을 얻을 수 있습니다. \n",
        "\n",
        "아래 요구사항은 **optional** 임을 다시 한 번 강조합니다. (필수 요구사항이 아닙니다.)\n",
        "\n",
        "---\n",
        "\n",
        "#### **$\\chi^2$ 가설 검정을 시행합니다**\n",
        "\n",
        "우리가 사용할 $\\chi^2$ - test는 어떤 경우에 사용하는 가설 검정 방법인지 알아봅시다.\n",
        "\n",
        "\n",
        "- one sample $\\chi^2$ - test (적합도 검정)\n",
        "  > **주어진 하나의 범주형 변수의 분포가 특정 예상되는 분포와 동일한 분포를 나타내는지** 에 대한 가설 검정 방법\n",
        "\n",
        "  - 귀무가설($H_0$): 주어진 변수 X의 관측분포와 특정 예상 분포가 동일하다.\n",
        "  - 대립가설($H_a$): 주어진 변수 X의 관측분포와 특정 예상 분포가 다르다.\n",
        "\n",
        "- two sample $\\chi^2$ - test (독립성 검정)\n",
        "  > **두 개의 범주형 변수가 서로 연관되어 있는지 여부**에 대한 가설 검정 방법\n",
        "\n",
        "  - 귀무가설($H_0$): 변수 X와 Y는 서로 독립이다. (연관 없음)\n",
        "  - 대립가설($H_a$): 변수 X와 Y는 서로 독립이 아니다. (연관 있음)\n",
        "\n",
        "</br>\n",
        "\n",
        "위의 가설검정 방법에 대한 설명을 참고하여 진행해봅니다.\n"
      ],
      "metadata": {
        "id": "YzB1I36NgOkw"
      }
    },
    {
      "cell_type": "markdown",
      "source": [
        "### **4-1. one sample $\\chi^2$ - test**\n",
        "\n",
        "> XYZ사는 다국적 기업으로 다양한 나라에 고객층을 확보하고 있으며, 5월을 맞아 **기혼자를 대상으로 한 이벤트를 기획**하려고 합니다. 이때, 우리는 모든 국가를 대상으로 이벤트를 진행하는 것이 효율적인지 $\\chi^2$ - test를 통해 확인해보려 합니다. 만약 국적별 기혼자의 빈도가 비슷하다면, XYZ사는 모든 국가를 대상으로 이벤트를 진행하는 것을 고려할 것이고, 그렇지 않다면, 어떤 국적의 고객이 더 많은지 파악하는 추가 분석이 필요할 것입니다.\n"
      ],
      "metadata": {
        "id": "PqOZQRk2kbkd"
      }
    },
    {
      "cell_type": "markdown",
      "source": [
        "#### **기혼자의 빈도가 모든 나라에 대해 균일한지 가설 검정을 해보세요.**\n",
        "\n",
        "---\n",
        "\n",
        "[공식문서](https://docs.scipy.org/doc/scipy/reference/generated/scipy.stats.chisquare.html)를 참고하여 아래에 명시된 가설을 검정해봅시다. ($\\alpha$ = 0.05)\n",
        "- 귀무가설($H_0$): 고객의 국적(Country)별 기혼자(Married)의 빈도가 균일하게 분포되어 있다.\n",
        "- 대립가설($H_a$): 고객의 국적(Country)별 기혼자(Married)의 빈도가 균일하게 분포되어 있지 않다.\n",
        "\n",
        "> **Hint:** categorical feature 간의 \"cross tab\"을 생성하여 탐색해 보세요 (aka [contingency tables](https://en.wikipedia.org/wiki/Contingency_table)). 그리고 $\\chi^2 test$를 적용해 보세요. [pandas.crosstab](http://pandas.pydata.org/pandas-docs/stable/reference/api/pandas.crosstab.html)을 사용하면 contingency table 을 생성할 수 있습니다."
      ],
      "metadata": {
        "id": "pHHK1iOiE1qV"
      }
    },
    {
      "cell_type": "code",
      "source": [
        "# 이곳에 코드를 작성하세요.\n",
        "print(df_final.columns)\n",
        "Married_filter = df_final.Marital_Status == 'Married'\n",
        "df_final_Married = df_final.loc[Married_filter]\n",
        "cross_tab = pd.crosstab(df_final_Married['Country'],df_final_Married['Marital_Status'])\n",
        "print(cross_tab)"
      ],
      "metadata": {
        "id": "Oq1YEFIUm1Ru",
        "colab": {
          "base_uri": "https://localhost:8080/"
        },
        "outputId": "3733029f-37f0-4ee3-d9cd-0220dcb703d8"
      },
      "execution_count": 24,
      "outputs": [
        {
          "output_type": "stream",
          "name": "stdout",
          "text": [
            "Index(['index', 'ID', 'Year_Birth', 'Country', 'Education', 'Marital_Status',\n",
            "       'Income', 'Kidhome', 'Teenhome', 'Dt_Customer', 'Recency', 'MntWines',\n",
            "       'MntFruits', 'MntMeatProducts', 'MntFishProducts', 'MntSweetProducts',\n",
            "       'MntGoldProds', 'NumDealsPurchases', 'NumWebPurchases',\n",
            "       'NumStorePurchases', 'NumWebVisitsMonth', 'Complain'],\n",
            "      dtype='object')\n",
            "Marital_Status  Married\n",
            "Country                \n",
            "AUS                  63\n",
            "CA                   94\n",
            "GER                  56\n",
            "IND                  51\n",
            "SA                  103\n",
            "SP                  413\n",
            "US                   32\n"
          ]
        }
      ]
    },
    {
      "cell_type": "code",
      "source": [
        "from scipy.stats import chi2_contingency\n",
        "chi2, pvalue, dof, expected = chi2_contingency(cross_tab)\n",
        "\n",
        "msg = 'Test Statistic: {}\\np-value: {}\\nDegree of Freedom: {}'\n",
        "print(msg.format(chi2, p, dof))\n",
        "print(expected)"
      ],
      "metadata": {
        "colab": {
          "base_uri": "https://localhost:8080/"
        },
        "id": "lCxtCDdSnoiN",
        "outputId": "ee2a955a-942e-4ef6-ba8c-bfb8d60bd2a8"
      },
      "execution_count": 25,
      "outputs": [
        {
          "output_type": "stream",
          "name": "stdout",
          "text": [
            "Test Statistic: 0.0\n",
            "p-value: 0.10106209254612211\n",
            "Degree of Freedom: 0\n",
            "[[ 63.]\n",
            " [ 94.]\n",
            " [ 56.]\n",
            " [ 51.]\n",
            " [103.]\n",
            " [413.]\n",
            " [ 32.]]\n"
          ]
        }
      ]
    },
    {
      "cell_type": "markdown",
      "source": [
        "### **4-2. P-value 해석**\n",
        "\n"
      ],
      "metadata": {
        "id": "JGov3kLCobnX"
      }
    },
    {
      "cell_type": "markdown",
      "source": [
        "#### **가설검정 결과로 나온 p-value를 바탕으로 결론을 제시하세요.**"
      ],
      "metadata": {
        "id": "Em0Pj-5PCxeH"
      }
    },
    {
      "cell_type": "markdown",
      "source": [
        "##### **Q9. p-value와 귀무가설 기각 여부를 (`p-value`, `귀무가설 기각 여부`) 형태로 쓰세요.**\n",
        "\n",
        "- p-value는 소수점 둘째 자리까지 표시합니다.\n",
        "- 귀무가설 기각 여부는 `O`, `X` 로 표시합니다.\n",
        "  - `O` : 귀무가설 기각\n",
        "  - `X` : 귀무가설 기각 실패"
      ],
      "metadata": {
        "id": "t21mbk-OdkMP"
      }
    },
    {
      "cell_type": "markdown",
      "source": [
        "**`이곳에 답을 작성하세요.`**"
      ],
      "metadata": {
        "id": "Wz0aQtT1m3lJ"
      }
    },
    {
      "cell_type": "code",
      "source": [
        "if(p<0.05) : \n",
        "    print('p value:', round(p,2),\"\\n\"+'O')\n",
        "else :\n",
        "    print('p value:', round(p,2),\"\\n\"+'X')"
      ],
      "metadata": {
        "id": "36Sy8A0gol77",
        "colab": {
          "base_uri": "https://localhost:8080/"
        },
        "outputId": "bcd061dc-92b1-4bc6-9eb8-486d682c4dac"
      },
      "execution_count": 27,
      "outputs": [
        {
          "output_type": "stream",
          "name": "stdout",
          "text": [
            "p value: 0.1 \n",
            "X\n"
          ]
        }
      ]
    }
  ]
}